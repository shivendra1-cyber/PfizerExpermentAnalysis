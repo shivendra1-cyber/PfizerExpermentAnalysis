{
  "nbformat": 4,
  "nbformat_minor": 0,
  "metadata": {
    "colab": {
      "private_outputs": true,
      "provenance": [],
      "authorship_tag": "ABX9TyP3QqHHcvtp82kN8Ww55HL9",
      "include_colab_link": true
    },
    "kernelspec": {
      "name": "python3",
      "display_name": "Python 3"
    },
    "language_info": {
      "name": "python"
    },
    "accelerator": "GPU",
    "gpuClass": "standard"
  },
  "cells": [
    {
      "cell_type": "markdown",
      "metadata": {
        "id": "view-in-github",
        "colab_type": "text"
      },
      "source": [
        "<a href=\"https://colab.research.google.com/github/shivendra1-cyber/PfizerExpermentAnalysis/blob/main/PfizerExpermentAnalysis1.ipynb\" target=\"_parent\"><img src=\"https://colab.research.google.com/assets/colab-badge.svg\" alt=\"Open In Colab\"/></a>"
      ]
    },
    {
      "cell_type": "code",
      "execution_count": null,
      "metadata": {
        "id": "bk04tGNiYmF1"
      },
      "outputs": [],
      "source": [
        "!gdown 173A59xh2mnpmljCCB9bhC4C5eP2IS6qZ"
      ]
    },
    {
      "cell_type": "code",
      "source": [
        "import numpy as np\n",
        "import pandas as pd\n"
      ],
      "metadata": {
        "id": "wmn60GwIY6lT"
      },
      "execution_count": null,
      "outputs": []
    },
    {
      "cell_type": "code",
      "source": [],
      "metadata": {
        "id": "1q-FesMxhzS1"
      },
      "execution_count": null,
      "outputs": []
    },
    {
      "cell_type": "code",
      "source": [
        "data = pd.read_csv('Pfizer_1.csv')\n",
        "data"
      ],
      "metadata": {
        "id": "_dVgqhsla87Y"
      },
      "execution_count": null,
      "outputs": []
    },
    {
      "cell_type": "code",
      "source": [
        "data.shape"
      ],
      "metadata": {
        "id": "_dWFP0ILh20d"
      },
      "execution_count": null,
      "outputs": []
    },
    {
      "cell_type": "code",
      "source": [
        "data.info()"
      ],
      "metadata": {
        "id": "GFyQfgKIbze-"
      },
      "execution_count": null,
      "outputs": []
    },
    {
      "cell_type": "code",
      "source": [
        "data_melt=pd.melt(data,id_vars=['Date','Parameter','Drug_Name'],\n",
        "                  var_name='time',\n",
        "                  value_name='reading')\n",
        "data_melt"
      ],
      "metadata": {
        "id": "A1feWNA5gkps"
      },
      "execution_count": null,
      "outputs": []
    },
    {
      "cell_type": "code",
      "source": [
        "18*12"
      ],
      "metadata": {
        "id": "7WmwT_jgkneR"
      },
      "execution_count": null,
      "outputs": []
    },
    {
      "cell_type": "code",
      "source": [
        "data_melt.pivot(index=['Date','Drug_Name','Parameter'],\n",
        "                columns='time',\n",
        "                values='reading')"
      ],
      "metadata": {
        "id": "lO8lJZPjkuVC"
      },
      "execution_count": null,
      "outputs": []
    },
    {
      "cell_type": "code",
      "source": [
        "data_melt=pd.melt(data,id_vars=['Date','Parameter','Drug_Name'],\n",
        "                  var_name='time',\n",
        "                  value_name='reading')\n",
        "data_melt"
      ],
      "metadata": {
        "id": "anxnFP_fhO6N"
      },
      "execution_count": null,
      "outputs": []
    },
    {
      "cell_type": "code",
      "source": [
        "data_og=data_melt.pivot(index=['Date','Drug_Name','Parameter'],\n",
        "                columns='time',\n",
        "                values='reading')\n",
        "data_og"
      ],
      "metadata": {
        "id": "esfSnpiNnSbQ"
      },
      "execution_count": null,
      "outputs": []
    },
    {
      "cell_type": "code",
      "source": [
        "data_og.__dict__"
      ],
      "metadata": {
        "id": "2Cf-kDDSoGiy"
      },
      "execution_count": null,
      "outputs": []
    },
    {
      "cell_type": "code",
      "source": [
        "data_og.columns.name"
      ],
      "metadata": {
        "id": "9Bb_1BomolZ-"
      },
      "execution_count": null,
      "outputs": []
    },
    {
      "cell_type": "code",
      "source": [
        "data_og.columns.time = None"
      ],
      "metadata": {
        "id": "-hRWmjSyo2sO"
      },
      "execution_count": null,
      "outputs": []
    },
    {
      "cell_type": "code",
      "source": [
        "data_melt"
      ],
      "metadata": {
        "id": "HpXTZ7THpLN9"
      },
      "execution_count": null,
      "outputs": []
    },
    {
      "cell_type": "code",
      "source": [
        "data_tidy=data_melt.pivot(index=['Date','Drug_Name','time'],\n",
        "                columns='Parameter',\n",
        "                values='reading').reset_index()\n",
        "data_tidy"
      ],
      "metadata": {
        "id": "dnGATBpKp0DN"
      },
      "execution_count": null,
      "outputs": []
    },
    {
      "cell_type": "code",
      "source": [
        "# how to handle missing values"
      ],
      "metadata": {
        "id": "hv1dUti9qviA"
      },
      "execution_count": null,
      "outputs": []
    },
    {
      "cell_type": "code",
      "source": [
        "data_tidy.tail()"
      ],
      "metadata": {
        "id": "GbCNbBsRqzk8"
      },
      "execution_count": null,
      "outputs": []
    },
    {
      "cell_type": "code",
      "source": [
        "data_tidy.head()"
      ],
      "metadata": {
        "id": "E2ur114lrBeu"
      },
      "execution_count": null,
      "outputs": []
    },
    {
      "cell_type": "code",
      "source": [
        "data_tidy.info()"
      ],
      "metadata": {
        "id": "E3We2mITrN3h"
      },
      "execution_count": null,
      "outputs": []
    },
    {
      "cell_type": "code",
      "source": [
        "#None &NaN"
      ],
      "metadata": {
        "id": "SSdPJAgLrdLy"
      },
      "execution_count": null,
      "outputs": []
    },
    {
      "cell_type": "code",
      "source": [
        "type(None)"
      ],
      "metadata": {
        "id": "FNQtVq1xrjcn"
      },
      "execution_count": null,
      "outputs": []
    },
    {
      "cell_type": "code",
      "source": [
        "type(np.NaN)"
      ],
      "metadata": {
        "id": "a7VK9-GIroac"
      },
      "execution_count": null,
      "outputs": []
    },
    {
      "cell_type": "code",
      "source": [
        "pd.Series(['1',np.nan,'2', None,np.nan])"
      ],
      "metadata": {
        "id": "xgGXIcS-r__S"
      },
      "execution_count": null,
      "outputs": []
    },
    {
      "cell_type": "code",
      "source": [
        "data.isnull()"
      ],
      "metadata": {
        "id": "CcJs9SLytoPh"
      },
      "execution_count": null,
      "outputs": []
    },
    {
      "cell_type": "code",
      "source": [
        "pd.isnull"
      ],
      "metadata": {
        "id": "NKO3JzNmty2O"
      },
      "execution_count": null,
      "outputs": []
    },
    {
      "cell_type": "code",
      "source": [
        "data.isnull().sum()"
      ],
      "metadata": {
        "id": "J-lZR4ZmuJ6O"
      },
      "execution_count": null,
      "outputs": []
    },
    {
      "cell_type": "code",
      "source": [
        "pd.isna"
      ],
      "metadata": {
        "id": "0LQ8PD6xugGN"
      },
      "execution_count": null,
      "outputs": []
    },
    {
      "cell_type": "code",
      "source": [
        "\n",
        "# fill missing vlues with place holder--0, vvvv high value, something else\n",
        "data[\"2:30:00\"].fillna(0)"
      ],
      "metadata": {
        "id": "o5jpOE7MyYcj"
      },
      "execution_count": null,
      "outputs": []
    },
    {
      "cell_type": "code",
      "source": [
        "data[\"2:30:00\"].fillna(data[\"2:30:00\"].mean())"
      ],
      "metadata": {
        "id": "Uhj8gZ_cz0vx"
      },
      "execution_count": null,
      "outputs": []
    },
    {
      "cell_type": "code",
      "source": [
        "data_tidy.groupby('Drug_Name')['Temperature'].mean()"
      ],
      "metadata": {
        "id": "m12-AxbG1mpZ"
      },
      "execution_count": null,
      "outputs": []
    },
    {
      "cell_type": "code",
      "source": [
        "data_tidy.groupby('Drug_Name')['Pressure'].mean()"
      ],
      "metadata": {
        "id": "kFPRJYKO28aP"
      },
      "execution_count": null,
      "outputs": []
    },
    {
      "cell_type": "code",
      "source": [
        "def mean_temp(x):\n",
        "  x['Avg_Temperature']=x['Temperature'].mean()\n",
        "  return x\n",
        "data_tidy.groupby('Drug_Name').apply(mean_temp)"
      ],
      "metadata": {
        "id": "bb8LYVnS3cS4"
      },
      "execution_count": null,
      "outputs": []
    },
    {
      "cell_type": "code",
      "source": [
        "data_tidy[\"Temperature\"]+20"
      ],
      "metadata": {
        "id": "uC4S-5hb4VfK"
      },
      "execution_count": null,
      "outputs": []
    },
    {
      "cell_type": "code",
      "source": [
        "data_tidy[\"Temperature\"].fillna(data_tidy[\"Avg_Temperature\"])[:20]"
      ],
      "metadata": {
        "id": "wotwtKxZ4mvn"
      },
      "execution_count": null,
      "outputs": []
    },
    {
      "cell_type": "code",
      "source": [
        "# 5-20--->low\n",
        "# 20-35--->medium\n",
        "# 35-50--> high\n",
        "# >50-- very high \n",
        "temp_points=[5,20,35,50,60]\n",
        "temp_labels=['low','medium','high','very_high']\n",
        "pd.cut(data_tidy[\"Temperature\"],bins=temp_points,labels=temp_labels)"
      ],
      "metadata": {
        "id": "PKvLx0P4-jG3"
      },
      "execution_count": null,
      "outputs": []
    },
    {
      "cell_type": "code",
      "source": [
        "# string datatype, date time datatype---->Notest\n",
        "# find out al the drugs wth the name of hydrcholride \n"
      ],
      "metadata": {
        "id": "Ju5UWu_-AWI-"
      },
      "execution_count": null,
      "outputs": []
    },
    {
      "cell_type": "code",
      "source": [
        "data_tidy.loc[data_tidy[\"Drug_Name\"].str.contains(\"hydrochloric\")]"
      ],
      "metadata": {
        "id": "ElErHMmbnkiW"
      },
      "execution_count": null,
      "outputs": []
    },
    {
      "cell_type": "code",
      "source": [
        "data_tidy[\"Drug_Name\"].str"
      ],
      "metadata": {
        "id": "_Yq5AnSWtcHZ"
      },
      "execution_count": null,
      "outputs": []
    },
    {
      "cell_type": "code",
      "source": [
        "data_tidy[\"Date\"].str.split('-')"
      ],
      "metadata": {
        "id": "_tyS_6EFtktP"
      },
      "execution_count": null,
      "outputs": []
    },
    {
      "cell_type": "code",
      "source": [
        "data_tidy[\"Date\"].str.split('-').apply(lambda x:x[2])"
      ],
      "metadata": {
        "id": "eV9gPkebuiO0"
      },
      "execution_count": null,
      "outputs": []
    },
    {
      "cell_type": "code",
      "source": [
        "  data_tidy[\"timestamp\"]= data_tidy[\"Date\"]+\" \"+data_tidy['time']"
      ],
      "metadata": {
        "id": "3xQga3noJ-ht"
      },
      "execution_count": null,
      "outputs": []
    },
    {
      "cell_type": "code",
      "source": [
        "data_tidy.head()"
      ],
      "metadata": {
        "id": "YP0ONjjSKRG3"
      },
      "execution_count": null,
      "outputs": []
    },
    {
      "cell_type": "code",
      "source": [
        "  data_tidy[\"timestamp\"]=pd.to_datetime(data_tidy[\"timestamp\"])"
      ],
      "metadata": {
        "id": "A-ETj8iOK3sh"
      },
      "execution_count": null,
      "outputs": []
    },
    {
      "cell_type": "code",
      "source": [
        "data_tidy.info()"
      ],
      "metadata": {
        "id": "0BMQBkV0LNnX"
      },
      "execution_count": null,
      "outputs": []
    },
    {
      "cell_type": "code",
      "source": [
        "ts=data_tidy[\"timestamp\"][0]\n",
        "ts"
      ],
      "metadata": {
        "id": "1Etv3p63LgHo"
      },
      "execution_count": null,
      "outputs": []
    },
    {
      "cell_type": "code",
      "source": [
        "ts.year"
      ],
      "metadata": {
        "id": "rxDIjXGmLu7B"
      },
      "execution_count": null,
      "outputs": []
    },
    {
      "cell_type": "code",
      "source": [
        "ts.month"
      ],
      "metadata": {
        "id": "0TiFxs3eLz9j"
      },
      "execution_count": null,
      "outputs": []
    },
    {
      "cell_type": "code",
      "source": [
        "ts.dayofweek"
      ],
      "metadata": {
        "id": "zsG4wCNbMUjr"
      },
      "execution_count": null,
      "outputs": []
    },
    {
      "cell_type": "code",
      "source": [
        "ts.day_name()"
      ],
      "metadata": {
        "id": "9NOd4mNLMXn4"
      },
      "execution_count": null,
      "outputs": []
    },
    {
      "cell_type": "code",
      "source": [
        "ts.minute"
      ],
      "metadata": {
        "id": "k98vMXiIMiAO"
      },
      "execution_count": null,
      "outputs": []
    },
    {
      "cell_type": "code",
      "source": [],
      "metadata": {
        "id": "4iWub2aVdpYQ"
      },
      "execution_count": null,
      "outputs": []
    }
  ]
}